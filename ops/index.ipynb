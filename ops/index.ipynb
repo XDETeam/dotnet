{
 "cells": [
  {
   "cell_type": "markdown",
   "metadata": {},
   "source": [
    "## Versioning\n",
    "\n",
    "TODO:Temporary version is taken from settings.ps1.\n",
    "    - Since some moment we have two versioning version. Another one is Version.props.\n",
    "    - For the local repo time-based versioning maybe good to avoid\n",
    "    - Cleanup local nuget repo in Version.props?\n",
    "TODO:Other shared projects settings should be also considered\n",
    "TODO:CI/CD should be responsible for this process"
   ]
  },
  {
   "cell_type": "markdown",
   "metadata": {},
   "source": [
    "## Local Nuget repoisitory"
   ]
  },
  {
   "cell_type": "code",
   "execution_count": null,
   "metadata": {
    "dotnet_interactive": {
     "language": "pwsh"
    },
    "vscode": {
     "languageId": "dotnet-interactive.pwsh"
    }
   },
   "outputs": [
    {
     "name": "stdout",
     "output_type": "stream",
     "text": [
      "Package source with Name: XDE Nuget Local removed successfully.\r\n",
      "Package source with Name: XDE Nuget Local added successfully.\r\n"
     ]
    }
   ],
   "source": [
    "function SetupVariable($Name, $Value) {\n",
    "    New-Item -Path Env: -Name $Name -Value $Value -Force | Out-Null\n",
    "    [System.Environment]::SetEnvironmentVariable($Name, $Value, [System.EnvironmentVariableTarget]::User)\n",
    "}\n",
    "\n",
    "$name = 'XDE Nuget Local'\n",
    "$folder = Read-Host \"XDE local nuget folder\"\n",
    "if (-not(Test-Path $folder)) {\n",
    "    New-Item -Type Directory -Path $folder | Out-Null\n",
    "}\n",
    "\n",
    "SetupVariable -Name 'XDE_NUGET_LOCAL' -Value $folder\n",
    "\n",
    "$sourceExists = (dotnet nuget list source | sls -Pattern $name).Length -gt 0\n",
    "if ($sourceExists) {\n",
    "    dotnet nuget remove source $name\n",
    "}\n",
    "\n",
    "dotnet nuget add source $folder --name $name"
   ]
  },
  {
   "cell_type": "markdown",
   "metadata": {},
   "source": [
    "## Publish packages globally"
   ]
  },
  {
   "cell_type": "code",
   "execution_count": null,
   "metadata": {
    "dotnet_interactive": {
     "language": "pwsh"
    },
    "vscode": {
     "languageId": "dotnet-interactive.pwsh"
    }
   },
   "outputs": [
    {
     "name": "stdout",
     "output_type": "stream",
     "text": [
      "Microsoft (R) Build Engine version 17.1.0+ae57d105c for .NET\r\n",
      "Copyright (C) Microsoft Corporation. All rights reserved.\r\n",
      "\r\n",
      "  Determining projects to restore...\r\n",
      "  Restored C:\\Projects\\xde\\dotnet\\src\\Xde.Labs\\Xde.Labs.csproj (in 76 ms).\r\n",
      "  Restored C:\\Projects\\xde\\dotnet\\src\\Xde.Specs\\Xde.Specs.csproj (in 76 ms).\r\n",
      "  Xde.Labs -> C:\\Projects\\xde\\dotnet\\src\\Xde.Labs\\bin\\Release\\net6.0\\Xde.Labs.dll\r\n",
      "  Successfully created package 'C:\\Projects\\xde\\dotnet\\src\\Xde.Labs\\bin\\Release\\Xde.Labs.0.0.1-alpha.220412.175031.nupkg'.\r\n",
      "  Xde.Labs -> C:\\Projects\\xde\\dotnet\\src\\Xde.Labs\\bin\\Release\\net6.0\\publish\\\r\n",
      "  Xde.Specs -> C:\\Projects\\xde\\dotnet\\src\\Xde.Specs\\bin\\Release\\net6.0\\Xde.Specs.dll\r\n",
      "  Xde.Specs -> C:\\Projects\\xde\\dotnet\\src\\Xde.Specs\\bin\\Release\\net6.0\\publish\\\r\n",
      "Pushing Xde.Labs.0.0.1-alpha.220412.175031.nupkg to 'https://www.nuget.org/api/v2/package'...\r\n",
      "  PUT https://www.nuget.org/api/v2/package/\r\n",
      "warn : All published packages should have license information specified. Learn more: https://aka.ms/deprecateLicenseUrl.\r\n",
      "  Created https://www.nuget.org/api/v2/package/ 1170ms\r\n",
      "Your package was pushed.\r\n"
     ]
    }
   ],
   "source": [
    "$settings = (. ./settings.ps1)\n",
    "$version = \"$($settings.Version).$([datetime]::UtcNow.ToString(\"yyMMdd.HHmmss\"))\"\n",
    "$apiKey = Read-Host \"API Key\"\n",
    "\n",
    "dotnet publish ../src `\n",
    "    --configuration Release `\n",
    "    /p:PackageVersion=$version `\n",
    "    /p:Authors=$($settings.Authors)\n",
    "\n",
    "dotnet nuget push `\n",
    "    \"../src/Xde.Labs/bin/Release/Xde.Labs.$version.nupkg\" `\n",
    "    --api-key $apiKey `\n",
    "    --source https://api.nuget.org/v3/index.json\n"
   ]
  }
 ],
 "metadata": {
  "kernelspec": {
   "display_name": ".NET (C#)",
   "language": "C#",
   "name": ".net-csharp"
  },
  "language_info": {
   "file_extension": ".cs",
   "mimetype": "text/x-csharp",
   "name": "C#",
   "pygments_lexer": "csharp",
   "version": "9.0"
  },
  "orig_nbformat": 4
 },
 "nbformat": 4,
 "nbformat_minor": 2
}
