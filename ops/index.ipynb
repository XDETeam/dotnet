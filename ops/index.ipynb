{
 "cells": [
  {
   "cell_type": "markdown",
   "metadata": {
    "dotnet_interactive": {
     "language": "csharp"
    },
    "polyglot_notebook": {
     "kernelName": "csharp"
    }
   },
   "source": [
    "## Versioning\n",
    "\n",
    "TODO:Temporary version is taken from settings.ps1.\n",
    "    - Since some moment we have two versioning version. Another one is Version.props.\n",
    "    - For the local repo time-based versioning maybe good to avoid\n",
    "    - Cleanup local nuget repo in Version.props?\n",
    "TODO:Other shared projects settings should be also considered\n",
    "TODO:CI/CD should be responsible for this process"
   ]
  },
  {
   "cell_type": "markdown",
   "metadata": {
    "dotnet_interactive": {
     "language": "csharp"
    },
    "polyglot_notebook": {
     "kernelName": "csharp"
    }
   },
   "source": [
    "## Local Nuget repoisitory"
   ]
  },
  {
   "cell_type": "code",
   "execution_count": null,
   "metadata": {
    "dotnet_interactive": {
     "language": "pwsh"
    },
    "vscode": {
     "languageId": "polyglot-notebook"
    }
   },
   "outputs": [
    {
     "ename": "Error",
     "evalue": "Input request cancelled",
     "output_type": "error",
     "traceback": [
      "Input request cancelled"
     ]
    },
    {
     "ename": "Error",
     "evalue": "Input request cancelled",
     "output_type": "error",
     "traceback": [
      "Input request cancelled"
     ]
    },
    {
     "name": "stdout",
     "output_type": "stream",
     "text": [
      "\u001b[31;1mRead-Host: \u001b[0m\n",
      "\u001b[31;1m\u001b[36;1mLine |\u001b[0m\n",
      "\u001b[31;1m\u001b[36;1m\u001b[36;1m   7 | \u001b[0m $folder = \u001b[36;1mRead-Host \"XDE local nuget folder\"\u001b[0m\n",
      "\u001b[31;1m\u001b[36;1m\u001b[36;1m\u001b[0m\u001b[36;1m\u001b[0m\u001b[36;1m     | \u001b[31;1m           ~~~~~~~~~~~~~~~~~~~~~~~~~~~~~~~~~~\u001b[0m\n",
      "\u001b[31;1m\u001b[36;1m\u001b[36;1m\u001b[0m\u001b[36;1m\u001b[0m\u001b[36;1m\u001b[31;1m\u001b[31;1m\u001b[36;1m     | \u001b[31;1mInput request cancelled\u001b[0m\n",
      "\u001b[31;1mTest-Path: \u001b[0m\n",
      "\u001b[31;1m\u001b[36;1mLine |\u001b[0m\n",
      "\u001b[31;1m\u001b[36;1m\u001b[36;1m   8 | \u001b[0m if (-not(\u001b[36;1mTest-Path $folder\u001b[0m)) {\u001b[0m\n",
      "\u001b[31;1m\u001b[36;1m\u001b[36;1m\u001b[0m\u001b[36;1m\u001b[0m\u001b[36;1m     | \u001b[31;1m          ~~~~~~~~~~~~~~~~~\u001b[0m\n",
      "\u001b[31;1m\u001b[36;1m\u001b[36;1m\u001b[0m\u001b[36;1m\u001b[0m\u001b[36;1m\u001b[31;1m\u001b[31;1m\u001b[36;1m     | \u001b[31;1mValue cannot be null. (Parameter 'The provided Path argument was null or an empty collection.')\u001b[0m\n",
      "\u001b[31;1mNew-Item: \u001b[0m\n",
      "\u001b[31;1m\u001b[36;1mLine |\u001b[0m\n",
      "\u001b[31;1m\u001b[36;1m\u001b[36;1m   9 | \u001b[0m     New-Item -Type Directory -Path \u001b[36;1m$folder\u001b[0m | Out-Null\u001b[0m\n",
      "\u001b[31;1m\u001b[36;1m\u001b[36;1m\u001b[0m\u001b[36;1m\u001b[0m\u001b[36;1m     | \u001b[31;1m                                    ~~~~~~~\u001b[0m\n",
      "\u001b[31;1m\u001b[36;1m\u001b[36;1m\u001b[0m\u001b[36;1m\u001b[0m\u001b[36;1m\u001b[31;1m\u001b[31;1m\u001b[36;1m     | \u001b[31;1mCannot bind argument to parameter 'Path' because it is null.\u001b[0m\n",
      "\u001b[31;1mNew-Item: \u001b[0m\n",
      "\u001b[31;1m\u001b[36;1mLine |\u001b[0m\n",
      "\u001b[31;1m\u001b[36;1m\u001b[36;1m   2 | \u001b[0m     \u001b[36;1mNew-Item -Path Env: -Name $Name -Value $Value -Force\u001b[0m | Out-Null\u001b[0m\n",
      "\u001b[31;1m\u001b[36;1m\u001b[36;1m\u001b[0m\u001b[36;1m\u001b[0m\u001b[36;1m     | \u001b[31;1m     ~~~~~~~~~~~~~~~~~~~~~~~~~~~~~~~~~~~~~~~~~~~~~~~~~~~~\u001b[0m\n",
      "\u001b[31;1m\u001b[36;1m\u001b[36;1m\u001b[0m\u001b[36;1m\u001b[0m\u001b[36;1m\u001b[31;1m\u001b[31;1m\u001b[36;1m     | \u001b[31;1mCannot process argument because the value of argument \"value\" is null. Change the value of argument \"value\" to a non-null value.\u001b[0m\n"
     ]
    }
   ],
   "source": [
    "function SetupVariable($Name, $Value) {\n",
    "    New-Item -Path Env: -Name $Name -Value $Value -Force | Out-Null\n",
    "    [System.Environment]::SetEnvironmentVariable($Name, $Value, [System.EnvironmentVariableTarget]::User)\n",
    "}\n",
    "\n",
    "$name = 'XDE Nuget Local'\n",
    "$folder = Read-Host \"XDE local nuget folder\"\n",
    "if (-not(Test-Path $folder)) {\n",
    "    New-Item -Type Directory -Path $folder | Out-Null\n",
    "}\n",
    "\n",
    "SetupVariable -Name 'XDE_NUGET_LOCAL' -Value $folder\n",
    "\n",
    "$sourceExists = (dotnet nuget list source | sls -Pattern $name).Length -gt 0\n",
    "if ($sourceExists) {\n",
    "    dotnet nuget remove source $name\n",
    "}\n",
    "\n",
    "dotnet nuget add source $folder --name $name"
   ]
  },
  {
   "cell_type": "markdown",
   "metadata": {
    "dotnet_interactive": {
     "language": "csharp"
    },
    "polyglot_notebook": {
     "kernelName": "csharp"
    }
   },
   "source": [
    "## Publish packages globally"
   ]
  },
  {
   "cell_type": "code",
   "execution_count": null,
   "metadata": {
    "dotnet_interactive": {
     "language": "pwsh"
    },
    "vscode": {
     "languageId": "polyglot-notebook"
    }
   },
   "outputs": [],
   "source": [
    "$settings = (. ./settings.ps1)\n",
    "$version = \"$($settings.Version).$([datetime]::UtcNow.ToString(\"yyMMdd.HHmmss\"))\"\n",
    "$apiKey = Read-Host \"API Key\"\n",
    "\n",
    "dotnet publish ../src `\n",
    "    --configuration Release `\n",
    "    --framework net5.0 `\n",
    "    /p:PackageVersion=$version `\n",
    "    /p:Authors=$($settings.Authors)\n",
    "\n",
    "dotnet publish ../src `\n",
    "    --configuration Release `\n",
    "    --framework net6.0 `\n",
    "    /p:PackageVersion=$version `\n",
    "    /p:Authors=$($settings.Authors)\n",
    "\n",
    "dotnet nuget push `\n",
    "    \"../src/Xde.Labs/bin/Release/Xde.Labs.$version.nupkg\" `\n",
    "    --api-key $apiKey `\n",
    "    --source https://api.nuget.org/v3/index.json\n"
   ]
  }
 ],
 "metadata": {
  "kernelspec": {
   "display_name": ".NET (C#)",
   "language": "C#",
   "name": ".net-csharp"
  },
  "language_info": {
   "file_extension": ".cs",
   "mimetype": "text/x-csharp",
   "name": "C#",
   "pygments_lexer": "csharp",
   "version": "9.0"
  },
  "orig_nbformat": 4
 },
 "nbformat": 4,
 "nbformat_minor": 2
}
